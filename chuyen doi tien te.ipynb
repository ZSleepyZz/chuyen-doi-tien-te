{
 "cells": [
  {
   "cell_type": "code",
   "execution_count": 1,
   "id": "6cffcaac",
   "metadata": {},
   "outputs": [],
   "source": [
    "import math\n",
    "import turtle"
   ]
  },
  {
   "cell_type": "code",
   "execution_count": 1,
   "id": "c98ecc34",
   "metadata": {},
   "outputs": [
    {
     "name": "stdout",
     "output_type": "stream",
     "text": [
      "nhập số tiền USD cần đổi: 1\n",
      "số tiền usd là 1.0 và số tiền vnd là 25000.0 \n"
     ]
    }
   ],
   "source": [
    "usd=float(input(\"nhập số tiền USD cần đổi: \"))\n",
    "vnd=usd*25000\n",
    "print(f'số tiền usd là {usd} và số tiền vnd là {vnd} ')"
   ]
  }
 ],
 "metadata": {
  "kernelspec": {
   "display_name": "Python 3 (ipykernel)",
   "language": "python",
   "name": "python3"
  },
  "language_info": {
   "codemirror_mode": {
    "name": "ipython",
    "version": 3
   },
   "file_extension": ".py",
   "mimetype": "text/x-python",
   "name": "python",
   "nbconvert_exporter": "python",
   "pygments_lexer": "ipython3",
   "version": "3.9.13"
  }
 },
 "nbformat": 4,
 "nbformat_minor": 5
}
